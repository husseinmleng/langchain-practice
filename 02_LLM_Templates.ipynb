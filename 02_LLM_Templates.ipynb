{
  "cells": [
    {
      "cell_type": "code",
      "execution_count": null,
      "metadata": {
        "id": "Mn52w6_9wG4e"
      },
      "outputs": [],
      "source": [
        "!pip install -q langchain==0.0.219 openai==0.27.8\n",
        "\n",
        "# !pip install -q transformers==4.29.2 sentencepiece==0.1.99 accelerate==0.19.0 bitsandbytes==0.39.0\n",
        "\n",
        "!pip install -q python-dotenv==1.0.0"
      ]
    },
    {
      "cell_type": "markdown",
      "metadata": {
        "id": "SLiT8MXjwvnU"
      },
      "source": [
        "## OpenAI"
      ]
    },
    {
      "cell_type": "code",
      "execution_count": null,
      "metadata": {
        "id": "iaVy9n9P56lU"
      },
      "outputs": [],
      "source": [
        "from dotenv import dotenv_values\n",
        "env_values = dotenv_values(\"./app.env\")\n",
        "\n",
        "openai_api_key = env_values['OPEN_API_KEY']"
      ]
    },
    {
      "cell_type": "code",
      "execution_count": null,
      "metadata": {
        "id": "yadXGK4BxbQ6"
      },
      "outputs": [],
      "source": [
        "from langchain.llms import OpenAI\n",
        "\n",
        "llm = OpenAI(openai_api_key=openai_api_key,\n",
        "             model_name=\"gpt-3.5-turbo\",\n",
        "             temperature=0.5)"
      ]
    },
    {
      "cell_type": "markdown",
      "metadata": {
        "id": "Mnh2r67GZZNK"
      },
      "source": [
        "## Prompts"
      ]
    },
    {
      "cell_type": "code",
      "execution_count": null,
      "metadata": {
        "id": "eSltK3n_X76h"
      },
      "outputs": [],
      "source": [
        "from langchain.prompts import PromptTemplate, ChatPromptTemplate\n",
        "\n",
        "string_prompt = PromptTemplate.from_template(\"explain {subject} like i am 5\")\n",
        "\n",
        "chat_prompt = ChatPromptTemplate.from_template(\"explain {subject} like i am 5\")"
      ]
    },
    {
      "cell_type": "code",
      "execution_count": null,
      "metadata": {
        "id": "fOJdh7jPY2cS"
      },
      "outputs": [],
      "source": [
        "string_prompt_message = string_prompt.format_prompt(subject='giza pyramids')\n",
        "chat_prompt_message = chat_prompt.format_prompt(subject='giza pyramids')"
      ]
    },
    {
      "cell_type": "code",
      "execution_count": null,
      "metadata": {
        "colab": {
          "base_uri": "https://localhost:8080/"
        },
        "id": "YGgDF0aSYKo0",
        "outputId": "3d7a0334-e8e6-4fdf-9dec-a810a6a78462"
      },
      "outputs": [
        {
          "name": "stdout",
          "output_type": "stream",
          "text": [
            "explain giza pyramids like i am 5\n"
          ]
        }
      ],
      "source": [
        "print( string_prompt_message.to_string() )"
      ]
    },
    {
      "cell_type": "code",
      "execution_count": null,
      "metadata": {
        "colab": {
          "base_uri": "https://localhost:8080/"
        },
        "id": "glCAju9nfr_R",
        "outputId": "190ad4ea-2012-4045-f23f-0d87ff5fb6ba"
      },
      "outputs": [
        {
          "name": "stdout",
          "output_type": "stream",
          "text": [
            "Human: explain giza pyramids like i am 5\n"
          ]
        }
      ],
      "source": [
        "print( chat_prompt_message.to_string() )"
      ]
    },
    {
      "cell_type": "code",
      "execution_count": null,
      "metadata": {
        "id": "nkd1r8_8gvqb"
      },
      "outputs": [],
      "source": [
        "## Another way to define a template\n",
        "\n",
        "template_message = \"\"\"\n",
        "explain {subject} like i am 5\n",
        "\"\"\".strip()\n",
        "\n",
        "string_prompt = PromptTemplate(\n",
        "    template=template_message,\n",
        "    input_variables=['subject']\n",
        ")\n",
        "\n",
        "string_prompt_message = string_prompt.format(subject='giza pyramids')"
      ]
    },
    {
      "cell_type": "code",
      "execution_count": null,
      "metadata": {
        "id": "8P6E50qkajqk"
      },
      "outputs": [],
      "source": [
        "template_message = \"\"\"\n",
        "Tell me {count} advices to {task}\n",
        "\"\"\".strip()\n",
        "\n",
        "string_prompt = PromptTemplate(\n",
        "    template=template_message,\n",
        "    input_variables=['count', 'task']\n",
        ")\n",
        "\n",
        "string_prompt_message = string_prompt.format(count='3', task='lose my weight')"
      ]
    },
    {
      "cell_type": "code",
      "execution_count": null,
      "metadata": {
        "id": "hXqcE2GMa8HI"
      },
      "outputs": [],
      "source": [
        "from langchain.prompts import load_prompt\n",
        "\n",
        "# save\n",
        "string_prompt.save(\"/content/task-prompt.json\")\n",
        "\n",
        "# load again\n",
        "loaded_prompt = load_prompt(\"/content/task-prompt.json\")"
      ]
    },
    {
      "cell_type": "markdown",
      "metadata": {
        "id": "S88_jdiIbo_I"
      },
      "source": [
        "## Run Template"
      ]
    },
    {
      "cell_type": "code",
      "execution_count": null,
      "metadata": {
        "id": "01hRQaSJbqqU"
      },
      "outputs": [],
      "source": [
        "template_message = \"\"\"\n",
        "explain {subject} like i am 5\n",
        "\"\"\".strip()\n",
        "\n",
        "string_prompt = PromptTemplate(\n",
        "    template=template_message,\n",
        "    input_variables=['subject']\n",
        ")\n",
        "\n",
        "string_prompt_message = string_prompt.format(subject='giza pyramids')\n",
        "\n",
        "print(\n",
        "    llm( string_prompt_message )\n",
        ")"
      ]
    },
    {
      "cell_type": "code",
      "execution_count": null,
      "metadata": {
        "colab": {
          "base_uri": "https://localhost:8080/"
        },
        "id": "IREgcDtcbvi9",
        "outputId": "5618f651-31f4-444c-e488-4e4e9c582620"
      },
      "outputs": [
        {
          "name": "stdout",
          "output_type": "stream",
          "text": [
            "\n",
            "\n",
            "Giza Pyramids are big structures that were built in Egypt a long time ago. They were built by the ancient Egyptians to be like big tombs for their kings and queens. They are made of big blocks of stone and are three different pyramids, that are all in a row. They are very old and still standing and are one of the most amazing things to see in the world.\n"
          ]
        }
      ],
      "source": [
        "chat_prompt = ChatPromptTemplate.from_template(\"explain {subject} like i am 5\")\n",
        "\n",
        "chat_prompt_message = chat_prompt.format(subject='giza pyramids')\n",
        "\n",
        "print(\n",
        "    llm( chat_prompt_message )\n",
        ")"
      ]
    },
    {
      "cell_type": "code",
      "execution_count": null,
      "metadata": {
        "colab": {
          "base_uri": "https://localhost:8080/"
        },
        "id": "8lQ9MYF1ctWy",
        "outputId": "90504761-887a-49ec-df1d-ceb7cb82dde6"
      },
      "outputs": [
        {
          "name": "stdout",
          "output_type": "stream",
          "text": [
            "\n",
            "\n",
            "أهرامات الجيزة هي مجموعة من المنشآت الأثرية التي تعود للعصر الفرعوني في مصر، وتشكل أشهر مواقع التاريخية في العالم. يقع الأهرامات في الجيزة، وهي مدينة في مصر الجنوبية. يتكون الأهرامات من القبور الكبيرة التي يتم تشييدها لأسر الملوك الفرعونيين الذين كانوا يحكمون في م\n"
          ]
        }
      ],
      "source": [
        "# template_message = \"\"\"\n",
        "# explain {subject} like i am 5. Translate the answer into {language}\n",
        "# \"\"\".strip()\n",
        "\n",
        "template_message = \"\"\"\n",
        "explain {subject} like i am 5. Write the answer in {language}\n",
        "\"\"\".strip()\n",
        "\n",
        "\n",
        "string_prompt = PromptTemplate(\n",
        "    template=template_message,\n",
        "    input_variables=['subject', 'language']\n",
        ")\n",
        "\n",
        "string_prompt_message = string_prompt.format(subject='giza pyramids', language='Arabic')\n",
        "\n",
        "print(\n",
        "    llm( string_prompt_message )\n",
        ")"
      ]
    },
    {
      "cell_type": "code",
      "execution_count": null,
      "metadata": {
        "colab": {
          "base_uri": "https://localhost:8080/"
        },
        "id": "SDV8J6-RdkRL",
        "outputId": "6b8e6722-7617-4c0f-aaf8-0aed0fcd32ca"
      },
      "outputs": [
        {
          "name": "stdout",
          "output_type": "stream",
          "text": [
            "\n",
            "\n",
            "الهرم الغذائي هو رسم يمثل الطريقة التي يتخذها الأشخاص للحصول على التغذية الصحيحة. يتكون الهرم من مجموعة من الأطعمة المختلفة التي يجب أن يتناولها الأشخاص للحصول على التغذية الصحيحة. يتضمن الهرم على الأقل خمس مجموعات من الأطعمة هي الحبوب والأجبان والدهون\n"
          ]
        }
      ],
      "source": [
        "# template_message = \"\"\"\n",
        "# اشرح {subject}  كما لو أني ابلغ الخامسة من العمر\n",
        "# \"\"\".strip()\n",
        "\n",
        "template_message = \" \".join([\n",
        "    \"اشرح\",\n",
        "    \"{subject}\",\n",
        "    \"كما لو أنني أبلغ الخامسة من العمر\"\n",
        "])\n",
        "\n",
        "string_prompt = PromptTemplate(\n",
        "    template=template_message,\n",
        "    input_variables=['subject']\n",
        ")\n",
        "\n",
        "string_prompt_message = string_prompt.format(subject='الهرم الغذائي')\n",
        "\n",
        "print(\n",
        "    llm( string_prompt_message )\n",
        ")"
      ]
    }
  ],
  "metadata": {
    "colab": {
      "gpuType": "V100",
      "machine_shape": "hm",
      "provenance": []
    },
    "kernelspec": {
      "display_name": "Python 3",
      "name": "python3"
    },
    "language_info": {
      "name": "python"
    }
  },
  "nbformat": 4,
  "nbformat_minor": 0
}
