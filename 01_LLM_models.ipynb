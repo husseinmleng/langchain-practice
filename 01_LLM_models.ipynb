{
  "cells": [
    {
      "cell_type": "code",
      "execution_count": null,
      "metadata": {
        "id": "Mn52w6_9wG4e"
      },
      "outputs": [],
      "source": [
        "!pip install -q langchain==0.0.219 openai==0.27.8\n",
        "\n",
        "!pip install -q transformers==4.30.2 sentencepiece==0.1.99 accelerate==0.19.0 bitsandbytes==0.39.0\n",
        "\n",
        "!pip install -q python-dotenv==1.0.0"
      ]
    },
    {
      "cell_type": "markdown",
      "metadata": {
        "id": "SLiT8MXjwvnU"
      },
      "source": [
        "## OpenAI"
      ]
    },
    {
      "cell_type": "code",
      "execution_count": null,
      "metadata": {
        "id": "zebj8CjEwEgR"
      },
      "outputs": [],
      "source": [
        "from dotenv import dotenv_values\n",
        "env_values = dotenv_values(\"./app.env\")\n",
        "\n",
        "openai_api_key = env_values['OPEN_API_KEY']"
      ]
    },
    {
      "cell_type": "code",
      "execution_count": null,
      "metadata": {
        "id": "yadXGK4BxbQ6"
      },
      "outputs": [],
      "source": [
        "from langchain.llms import OpenAI\n",
        "\n",
        "llm = OpenAI(openai_api_key=openai_api_key,\n",
        "             model_name=\"gpt-3.5-turbo\",\n",
        "             temperature=0.5)"
      ]
    },
    {
      "cell_type": "code",
      "execution_count": null,
      "metadata": {
        "colab": {
          "base_uri": "https://localhost:8080/"
        },
        "id": "glCAju9nfr_R",
        "outputId": "b69b4aec-63cc-487d-9dfa-83833dd792d5"
      },
      "outputs": [
        {
          "name": "stdout",
          "output_type": "stream",
          "text": [
            "\n",
            "\n",
            "1. Increase your physical activity - Start by adding more physical activity into your daily routine. Try taking a brisk walk or jog for 30 minutes each day, or if you're already active, aim to increase the intensity and duration of your workouts.\n",
            "\n",
            "2. Eat healthier - Focus on eating a balanced diet of lean proteins, fresh fruits and vegetables, and healthy fats. Avoid processed and sugary foods and drinks, and opt for healthier alternatives such as whole grains, legumes, and low-fat dairy products.\n"
          ]
        }
      ],
      "source": [
        "prompt = \"\"\"\n",
        "Suggest 2 ways to lose my weight.\n",
        "\"\"\".strip()\n",
        "\n",
        "print(llm(prompt))"
      ]
    },
    {
      "cell_type": "code",
      "execution_count": null,
      "metadata": {
        "id": "VmqG14OueB-v"
      },
      "outputs": [],
      "source": [
        "prompt_1 = \"\"\"\n",
        "Suggest 2 ways to lose my weight.\n",
        "\"\"\".strip()\n",
        "\n",
        "prompt_2 = \"\"\"\n",
        "Tell me a joke\n",
        "\"\"\".strip()\n",
        "\n",
        "llm_results = llm.generate([ prompt_1, prompt_2 ])"
      ]
    },
    {
      "cell_type": "code",
      "execution_count": null,
      "metadata": {
        "id": "nkd1r8_8gvqb"
      },
      "outputs": [],
      "source": [
        "llm_results.generations[1][0].text"
      ]
    },
    {
      "cell_type": "code",
      "execution_count": null,
      "metadata": {
        "id": "UOF6y4ZAeD-9"
      },
      "outputs": [],
      "source": [
        "llm_results.llm_output"
      ]
    },
    {
      "cell_type": "markdown",
      "metadata": {
        "id": "pza44UXlgQD5"
      },
      "source": [
        "## HuggingFace Model"
      ]
    },
    {
      "cell_type": "markdown",
      "metadata": {
        "id": "SDLA_lO_Pmzf"
      },
      "source": [
        "##### 1) Example 1"
      ]
    },
    {
      "cell_type": "code",
      "execution_count": null,
      "metadata": {
        "id": "bQJ-REPDPpsp"
      },
      "outputs": [],
      "source": [
        "from transformers import AutoTokenizer, AutoModelForCausalLM, pipeline\n",
        "import torch\n",
        "\n",
        "from langchain.llms import HuggingFacePipeline\n",
        "\n",
        "model_id = \"h2oai/h2ogpt-gm-oasst1-en-2048-open-llama-3b\"\n",
        "\n",
        "tokenizer = AutoTokenizer.from_pretrained(model_id, use_fast=False)\n",
        "\n",
        "base_model = AutoModelForCausalLM.from_pretrained(model_id,\n",
        "                                            load_in_8bit=True,\n",
        "                                            device_map='auto',)"
      ]
    },
    {
      "cell_type": "code",
      "execution_count": null,
      "metadata": {
        "colab": {
          "base_uri": "https://localhost:8080/"
        },
        "id": "e-wU88bFP_23",
        "outputId": "2d1de6e9-63fd-4a99-f681-b10aaa084aea"
      },
      "outputs": [
        {
          "name": "stderr",
          "output_type": "stream",
          "text": [
            "Xformers is not installed correctly. If you want to use memory_efficient_attention to accelerate training use the following command to install Xformers\n",
            "pip install xformers.\n"
          ]
        }
      ],
      "source": [
        "pipe = pipeline(\"text-generation\",\n",
        "                model=base_model,\n",
        "                tokenizer=tokenizer,\n",
        "                max_length=256,\n",
        "                temperature=0.6,\n",
        "                top_p=0.95,\n",
        "                repetition_penalty=1.2)\n",
        "\n",
        "llm = HuggingFacePipeline(pipeline=pipe)"
      ]
    },
    {
      "cell_type": "code",
      "execution_count": null,
      "metadata": {
        "colab": {
          "base_uri": "https://localhost:8080/"
        },
        "id": "uNygA09ugsV-",
        "outputId": "7fa0ff02-61b4-49c1-a563-b0161833bd53"
      },
      "outputs": [
        {
          "name": "stdout",
          "output_type": "stream",
          "text": [
            "\n",
            "1. Exercise regularly and eat healthy foods.\n",
            "2. Take supplements or medications to help with weight loss.\n"
          ]
        }
      ],
      "source": [
        "template = \"\"\"Below is an instruction that describes a task. Write a response that appropriately completes the request.\n",
        "\n",
        "### Instruction:\n",
        "Suggest 2 ways to lose my weight.\n",
        "\n",
        "Answer:\"\"\"\n",
        "\n",
        "print(llm(template))"
      ]
    },
    {
      "cell_type": "markdown",
      "metadata": {
        "id": "6dtHUuQ-QkBq"
      },
      "source": [
        "##### 2) Example 2"
      ]
    },
    {
      "cell_type": "code",
      "execution_count": null,
      "metadata": {
        "id": "dwEaqLquQvA3"
      },
      "outputs": [],
      "source": [
        "from transformers import LlamaTokenizer, LlamaForCausalLM, GenerationConfig, pipeline\n",
        "import torch\n",
        "\n",
        "from langchain.llms import HuggingFacePipeline"
      ]
    },
    {
      "cell_type": "code",
      "execution_count": null,
      "metadata": {
        "id": "RHv0X8WqiSF-"
      },
      "outputs": [],
      "source": [
        "model_id = \"chavinlo/alpaca-native\"\n",
        "\n",
        "tokenizer = LlamaTokenizer.from_pretrained(model_id)\n",
        "\n",
        "base_model = LlamaForCausalLM.from_pretrained(\n",
        "    model_id,\n",
        "    load_in_8bit=True,\n",
        "    device_map='auto',\n",
        ")"
      ]
    },
    {
      "cell_type": "code",
      "execution_count": null,
      "metadata": {
        "colab": {
          "base_uri": "https://localhost:8080/"
        },
        "id": "14Ng3qbtgwIc",
        "outputId": "b526574f-5049-43c2-dd09-e16034f3d6bc"
      },
      "outputs": [
        {
          "name": "stderr",
          "output_type": "stream",
          "text": [
            "Xformers is not installed correctly. If you want to use memorry_efficient_attention to accelerate training use the following command to install Xformers\n",
            "pip install xformers.\n"
          ]
        }
      ],
      "source": [
        "pipe = pipeline(\n",
        "    \"text-generation\",\n",
        "    model=base_model,\n",
        "    tokenizer=tokenizer,\n",
        "    max_length=256,\n",
        "    temperature=0.6,\n",
        "    top_p=0.95,\n",
        "    repetition_penalty=1.2\n",
        ")"
      ]
    },
    {
      "cell_type": "code",
      "execution_count": null,
      "metadata": {
        "id": "RDND5GuUkbWF"
      },
      "outputs": [],
      "source": [
        "llm = HuggingFacePipeline(pipeline=pipe)"
      ]
    },
    {
      "cell_type": "code",
      "execution_count": null,
      "metadata": {
        "colab": {
          "base_uri": "https://localhost:8080/"
        },
        "id": "utpZRi6tk_0F",
        "outputId": "49d15dfb-504f-44ad-8341-c6e712fdde9a"
      },
      "outputs": [
        {
          "name": "stdout",
          "output_type": "stream",
          "text": [
            " You can lose weight by exercising regularly and eating healthy meals like fruits, vegetables, lean proteins, nuts, legumes, whole grains, low-fat dairy dairy products, and drinking plenty of water.\n"
          ]
        }
      ],
      "source": [
        "template = \"\"\"Below is an instruction that describes a task. Write a response that appropriately completes the request.\n",
        "\n",
        "### Instruction:\n",
        "Suggest 2 ways to lose my weight.\n",
        "\n",
        "Answer:\"\"\"\n",
        "\n",
        "print(llm(template))"
      ]
    },
    {
      "cell_type": "code",
      "execution_count": null,
      "metadata": {
        "id": "TdZuYjbkkhA1"
      },
      "outputs": [],
      "source": []
    },
    {
      "cell_type": "code",
      "execution_count": null,
      "metadata": {
        "colab": {
          "base_uri": "https://localhost:8080/"
        },
        "id": "1Dx0jgsSkmur",
        "outputId": "d181d07e-edd2-47f6-83f2-620f2e255366"
      },
      "outputs": [
        {
          "name": "stdout",
          "output_type": "stream",
          "text": [
            " \n",
            "1. Exercise regularly - at least 30 minutes per day.\n",
            "2. Eat healthy and nutritious foods, such as fruits and vegetables whole grains lean proteins nuts legumes low fat dairy free dairy products.\n"
          ]
        }
      ],
      "source": [
        "template = \"\"\"Below is an instruction that describes a task. Write a response that appropriately completes the request.\n",
        "\n",
        "### Instruction:\n",
        "Suggest 2 ways to lose my weight. Set order for each way.\n",
        "\n",
        "Answer:\"\"\"\n",
        "\n",
        "print(llm(template))"
      ]
    }
  ],
  "metadata": {
    "accelerator": "GPU",
    "colab": {
      "gpuType": "T4",
      "machine_shape": "hm",
      "provenance": []
    },
    "kernelspec": {
      "display_name": "Python 3",
      "name": "python3"
    },
    "language_info": {
      "name": "python"
    }
  },
  "nbformat": 4,
  "nbformat_minor": 0
}
